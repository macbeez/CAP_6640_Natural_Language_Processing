{
 "cells": [
  {
   "cell_type": "markdown",
   "metadata": {},
   "source": [
    "# Toxic Comment Detector"
   ]
  },
  {
   "cell_type": "code",
   "execution_count": 18,
   "metadata": {},
   "outputs": [],
   "source": [
    "import warnings\n",
    "warnings.filterwarnings('ignore')\n",
    "import numpy as np\n",
    "import pandas as pd\n",
    "import string\n",
    "from sklearn.model_selection import train_test_split\n",
    "from sklearn.feature_extraction.text import ENGLISH_STOP_WORDS\n",
    "from sklearn.feature_extraction.text import CountVectorizer\n",
    "from sklearn.metrics import precision_score, recall_score, accuracy_score, f1_score\n",
    "import matplotlib.pyplot as plt\n",
    "import seaborn as sns\n",
    "from sklearn.multioutput import MultiOutputClassifier\n",
    "from sklearn.naive_bayes import MultinomialNB\n",
    "from sklearn.model_selection import cross_val_score\n",
    "from sklearn.metrics import roc_auc_score\n",
    "from statistics import mean"
   ]
  },
  {
   "cell_type": "markdown",
   "metadata": {},
   "source": [
    "## Import Data Files"
   ]
  },
  {
   "cell_type": "code",
   "execution_count": 19,
   "metadata": {},
   "outputs": [
    {
     "data": {
      "text/html": [
       "<div>\n",
       "<style scoped>\n",
       "    .dataframe tbody tr th:only-of-type {\n",
       "        vertical-align: middle;\n",
       "    }\n",
       "\n",
       "    .dataframe tbody tr th {\n",
       "        vertical-align: top;\n",
       "    }\n",
       "\n",
       "    .dataframe thead th {\n",
       "        text-align: right;\n",
       "    }\n",
       "</style>\n",
       "<table border=\"1\" class=\"dataframe\">\n",
       "  <thead>\n",
       "    <tr style=\"text-align: right;\">\n",
       "      <th></th>\n",
       "      <th>id</th>\n",
       "      <th>comment_text</th>\n",
       "      <th>toxic</th>\n",
       "      <th>severe_toxic</th>\n",
       "      <th>obscene</th>\n",
       "      <th>threat</th>\n",
       "      <th>insult</th>\n",
       "      <th>identity_hate</th>\n",
       "    </tr>\n",
       "  </thead>\n",
       "  <tbody>\n",
       "    <tr>\n",
       "      <th>0</th>\n",
       "      <td>0000997932d777bf</td>\n",
       "      <td>Explanation\\nWhy the edits made under my usern...</td>\n",
       "      <td>0</td>\n",
       "      <td>0</td>\n",
       "      <td>0</td>\n",
       "      <td>0</td>\n",
       "      <td>0</td>\n",
       "      <td>0</td>\n",
       "    </tr>\n",
       "    <tr>\n",
       "      <th>1</th>\n",
       "      <td>000103f0d9cfb60f</td>\n",
       "      <td>D'aww! He matches this background colour I'm s...</td>\n",
       "      <td>0</td>\n",
       "      <td>0</td>\n",
       "      <td>0</td>\n",
       "      <td>0</td>\n",
       "      <td>0</td>\n",
       "      <td>0</td>\n",
       "    </tr>\n",
       "    <tr>\n",
       "      <th>2</th>\n",
       "      <td>000113f07ec002fd</td>\n",
       "      <td>Hey man, I'm really not trying to edit war. It...</td>\n",
       "      <td>0</td>\n",
       "      <td>0</td>\n",
       "      <td>0</td>\n",
       "      <td>0</td>\n",
       "      <td>0</td>\n",
       "      <td>0</td>\n",
       "    </tr>\n",
       "    <tr>\n",
       "      <th>3</th>\n",
       "      <td>0001b41b1c6bb37e</td>\n",
       "      <td>\"\\nMore\\nI can't make any real suggestions on ...</td>\n",
       "      <td>0</td>\n",
       "      <td>0</td>\n",
       "      <td>0</td>\n",
       "      <td>0</td>\n",
       "      <td>0</td>\n",
       "      <td>0</td>\n",
       "    </tr>\n",
       "    <tr>\n",
       "      <th>4</th>\n",
       "      <td>0001d958c54c6e35</td>\n",
       "      <td>You, sir, are my hero. Any chance you remember...</td>\n",
       "      <td>0</td>\n",
       "      <td>0</td>\n",
       "      <td>0</td>\n",
       "      <td>0</td>\n",
       "      <td>0</td>\n",
       "      <td>0</td>\n",
       "    </tr>\n",
       "  </tbody>\n",
       "</table>\n",
       "</div>"
      ],
      "text/plain": [
       "                 id                                       comment_text  toxic  \\\n",
       "0  0000997932d777bf  Explanation\\nWhy the edits made under my usern...      0   \n",
       "1  000103f0d9cfb60f  D'aww! He matches this background colour I'm s...      0   \n",
       "2  000113f07ec002fd  Hey man, I'm really not trying to edit war. It...      0   \n",
       "3  0001b41b1c6bb37e  \"\\nMore\\nI can't make any real suggestions on ...      0   \n",
       "4  0001d958c54c6e35  You, sir, are my hero. Any chance you remember...      0   \n",
       "\n",
       "   severe_toxic  obscene  threat  insult  identity_hate  \n",
       "0             0        0       0       0              0  \n",
       "1             0        0       0       0              0  \n",
       "2             0        0       0       0              0  \n",
       "3             0        0       0       0              0  \n",
       "4             0        0       0       0              0  "
      ]
     },
     "execution_count": 19,
     "metadata": {},
     "output_type": "execute_result"
    }
   ],
   "source": [
    "train_text = pd.read_csv(\"include/train.csv\", index_col=False)\n",
    "train_text.reset_index(drop=True)\n",
    "test_text = pd.read_csv(\"include/test.csv\", index_col=False)\n",
    "sample_submission = pd.read_csv(\"include/sample_submission.csv\", index_col=False)\n",
    "test_labels = pd.read_csv(\"include/test_labels.csv\", index_col=False)\n",
    "\n",
    "train_text.head()"
   ]
  },
  {
   "cell_type": "markdown",
   "metadata": {},
   "source": [
    "## Format data frames"
   ]
  },
  {
   "cell_type": "code",
   "execution_count": 4,
   "metadata": {},
   "outputs": [],
   "source": [
    "X = train_text['comment_text']\n",
    "y = train_text.drop(['id'], axis=1)\n",
    "y = y.drop(['comment_text'], axis=1)\n",
    "X_val = test_text['comment_text']"
   ]
  },
  {
   "cell_type": "code",
   "execution_count": 5,
   "metadata": {},
   "outputs": [
    {
     "data": {
      "text/html": [
       "<div>\n",
       "<style scoped>\n",
       "    .dataframe tbody tr th:only-of-type {\n",
       "        vertical-align: middle;\n",
       "    }\n",
       "\n",
       "    .dataframe tbody tr th {\n",
       "        vertical-align: top;\n",
       "    }\n",
       "\n",
       "    .dataframe thead th {\n",
       "        text-align: right;\n",
       "    }\n",
       "</style>\n",
       "<table border=\"1\" class=\"dataframe\">\n",
       "  <thead>\n",
       "    <tr style=\"text-align: right;\">\n",
       "      <th></th>\n",
       "      <th>toxic</th>\n",
       "      <th>severe_toxic</th>\n",
       "      <th>obscene</th>\n",
       "      <th>threat</th>\n",
       "      <th>insult</th>\n",
       "      <th>identity_hate</th>\n",
       "    </tr>\n",
       "  </thead>\n",
       "  <tbody>\n",
       "    <tr>\n",
       "      <th>0</th>\n",
       "      <td>0.904156</td>\n",
       "      <td>0.990004</td>\n",
       "      <td>0.947052</td>\n",
       "      <td>0.997004</td>\n",
       "      <td>0.950636</td>\n",
       "      <td>0.991195</td>\n",
       "    </tr>\n",
       "    <tr>\n",
       "      <th>1</th>\n",
       "      <td>0.095844</td>\n",
       "      <td>0.009996</td>\n",
       "      <td>0.052948</td>\n",
       "      <td>0.002996</td>\n",
       "      <td>0.049364</td>\n",
       "      <td>0.008805</td>\n",
       "    </tr>\n",
       "  </tbody>\n",
       "</table>\n",
       "</div>"
      ],
      "text/plain": [
       "      toxic  severe_toxic   obscene    threat    insult  identity_hate\n",
       "0  0.904156      0.990004  0.947052  0.997004  0.950636       0.991195\n",
       "1  0.095844      0.009996  0.052948  0.002996  0.049364       0.008805"
      ]
     },
     "execution_count": 5,
     "metadata": {},
     "output_type": "execute_result"
    }
   ],
   "source": [
    "#Looking at the distribution of traget variables\n",
    "y_cols = [\"toxic\",\"severe_toxic\",\"obscene\",\"threat\",\"insult\",\"identity_hate\"]\n",
    "train_text[y_cols].apply(pd.Series.value_counts, args = (True, True, False, None, False))"
   ]
  },
  {
   "cell_type": "markdown",
   "metadata": {},
   "source": [
    "## Plot the data"
   ]
  },
  {
   "cell_type": "code",
   "execution_count": 6,
   "metadata": {},
   "outputs": [
    {
     "data": {
      "image/png": "[encoded data removed]",
      "text/plain": [
       "<Figure size 864x360 with 1 Axes>"
      ]
     },
     "metadata": {
      "needs_background": "light"
     },
     "output_type": "display_data"
    }
   ],
   "source": [
    "# fig, axes = plt.subplots(figsize = (32,8))\n",
    "fig, axes = plt.subplots(figsize = (12,5))\n",
    "sns.countplot(y.sum(axis = 1))\n",
    "# NOTE: axis = 1 adds everything along columns and axis = 0 adds everything along rows\n",
    "axes.set_xticks(range(6)) # Have to do this to work around a bug\n",
    "axes.set_xticklabels(y.columns, rotation = 50, ha = \"center\", fontsize = 11)\n",
    "plt.title(\"Frequency of different types of toxic comments\")\n",
    "plt.tight_layout()\n",
    "plt.show()"
   ]
  },
  {
   "cell_type": "markdown",
   "metadata": {},
   "source": [
    "## Split the data into training and validation sets"
   ]
  },
  {
   "cell_type": "code",
   "execution_count": 7,
   "metadata": {},
   "outputs": [
    {
     "name": "stdout",
     "output_type": "stream",
     "text": [
      "Training set size:  (111699,) (111699, 6)\n",
      "Testing set size:  (47872,) (47872, 6)\n"
     ]
    }
   ],
   "source": [
    "X_train, X_test, y_train, y_test = train_test_split(X, y, test_size = 0.3, shuffle = True, random_state = 101)\n",
    "print(\"Training set size: \", X_train.shape, y_train.shape)\n",
    "print(\"Testing set size: \", X_test.shape, y_test.shape)"
   ]
  },
  {
   "cell_type": "markdown",
   "metadata": {},
   "source": [
    "## Basic  Preprocessing"
   ]
  },
  {
   "cell_type": "code",
   "execution_count": 11,
   "metadata": {},
   "outputs": [],
   "source": [
    "# Remove punctuation marks and digits\n",
    "# Stop words remoe words such as: in, the, so, of etc. that don't help us determine the y labels\n",
    "stop_words = ENGLISH_STOP_WORDS\n",
    "def clean(doc):\n",
    "    doc = \"\".join([special_char for special_char in doc if special_char not in string.punctuation and not special_char.isdigit()])\n",
    "    doc = \" \".join([word for word in doc.split() if word not in stop_words])\n",
    "    return doc.lower() # Make all words lower case"
   ]
  },
  {
   "cell_type": "markdown",
   "metadata": {},
   "source": [
    "## Creating bag of words (CBOW)"
   ]
  },
  {
   "cell_type": "code",
   "execution_count": 12,
   "metadata": {},
   "outputs": [],
   "source": [
    "# Creating bag of words with a maximum of 5000 frequently used words\n",
    "\n",
    "word_vect = CountVectorizer(max_features = 5000, preprocessor = clean)"
   ]
  },
  {
   "cell_type": "code",
   "execution_count": 13,
   "metadata": {},
   "outputs": [
    {
     "name": "stdout",
     "output_type": "stream",
     "text": [
      "The number of times the 5000 most frequent words appear in the training dataset is:  (111699, 5000)\n",
      "The number of times the 5000 most frequent words appear in the validation dataset is:  (47872, 5000)\n"
     ]
    }
   ],
   "source": [
    "# Let's find the number of occurances of the 5000 frequenct words\n",
    "X_train_freq_words = word_vect.fit_transform(X_train)\n",
    "X_test_freq_words = word_vect.fit_transform(X_test)\n",
    "\n",
    "X_freq_words_full_training = word_vect.fit_transform(X)\n",
    "X_freq_words_full_testing = word_vect.fit_transform(X_val)\n",
    "\n",
    "print(\"The number of times the 5000 most frequent words appear in the training dataset is: \" , X_train_freq_words.shape)\n",
    "print(\"The number of times the 5000 most frequent words appear in the validation dataset is: \" , X_test_freq_words.shape)\n",
    "# print(\"Frequent words in training data: \", pd.DataFrame(X_train_freq_words.A[:], columns = word_vect.get_feature_names()))\n",
    "# print(\"\\nfrequent words in testing data: \", pd.DataFrame(X_test_freq_words.A[:], columns = word_vect.get_feature_names()))"
   ]
  },
  {
   "cell_type": "markdown",
   "metadata": {},
   "source": [
    "## Create a multi-output classifier (Multinomial Naive Bayes Model)"
   ]
  },
  {
   "cell_type": "code",
   "execution_count": 14,
   "metadata": {},
   "outputs": [
    {
     "name": "stdout",
     "output_type": "stream",
     "text": [
      "The accuracy score on a small section of the training data is:  0.8138160093582888\n"
     ]
    }
   ],
   "source": [
    "NB_classifier = MultiOutputClassifier(MultinomialNB())\n",
    "\n",
    "NB_trained_model = NB_classifier.fit(X_train_freq_words, y_train)\n",
    "target_prediction = NB_trained_model.predict(X_test_freq_words)\n",
    "\n",
    "prediction_accuracy = accuracy_score(y_test, target_prediction)\n",
    "print(\"The accuracy score on a small section of the training data is: \", prediction_accuracy)"
   ]
  },
  {
   "cell_type": "markdown",
   "metadata": {},
   "source": [
    "## Performance on the test data"
   ]
  },
  {
   "cell_type": "code",
   "execution_count": 15,
   "metadata": {},
   "outputs": [
    {
     "name": "stdout",
     "output_type": "stream",
     "text": [
      "The mean AUC using Naive Bayes Model is:  0.6319471301666983\n"
     ]
    }
   ],
   "source": [
    "# ROC: Receiver Operating Characteristic is a graph showing the preformance of a classification model at all classification thresholds\n",
    "# AUC: measures the entired two-dimensional area under the entire ROC curve.\n",
    "# ROC - AUC score: indicates the degree of separability/distintion or intermingling/crossover between the predictions of the two classes\n",
    "# Higher the ROC-AUC score, lower the crossover and better the seperation between the classes\n",
    "\n",
    "def calc_roc_auc(y_test, target_predict):\n",
    "    aucs = []\n",
    "    # Calculate the ROC - AUC for each of the target column\n",
    "    for col in range(y_test.shape[1]):\n",
    "        aucs.append(roc_auc_score(y_test[:,col], target_predict[:,col]))\n",
    "    return aucs\n",
    "\n",
    "results = []\n",
    "y_test_result = y_test.values\n",
    "target_predict = np.transpose(np.array(NB_trained_model.predict_proba(X_test_freq_words))[:,:,1])\n",
    "mean_auc = mean(calc_roc_auc(y_test_result, target_predict))\n",
    "results.append(mean_auc)\n",
    "\n",
    "print(\"The mean AUC using Naive Bayes Model is: \", mean_auc)"
   ]
  },
  {
   "cell_type": "markdown",
   "metadata": {},
   "source": [
    "## Predicting on the Test data"
   ]
  },
  {
   "cell_type": "code",
   "execution_count": 16,
   "metadata": {},
   "outputs": [
    {
     "name": "stdout",
     "output_type": "stream",
     "text": [
      "Data saved in the csv file\n"
     ]
    }
   ],
   "source": [
    "# Create representation using CBOW and count vectorizer\n",
    "X_freq_words_full_testing = word_vect.fit_transform(X_val)\n",
    "# Predict the probability values of the y labels\n",
    "y_prediction = np.transpose(np.array(NB_trained_model.predict_proba(X_freq_words_full_testing))[:,:,1])\n",
    "# Merge the test_text and the sample submission files\n",
    "df_test = pd.merge(test_text, sample_submission, on = 'id')\n",
    "# Create the y-labels\n",
    "y_cols = [\"toxic\", \"severe_toxic\", \"obscene\", \"threat\", \"insult\", \"identity_hate\"]\n",
    "# Input the prediction values into the dataframe\n",
    "df_test[y_cols] = y_prediction\n",
    "# drop the comment_text column as it is not a part of the sample submission\n",
    "df_test.drop(['comment_text'], axis = 1, inplace = True)\n",
    "# Write the values in the dataframe into a CSV file\n",
    "df_test.to_csv(\"sample_submission.csv\", index = False)\n",
    "print(\"Data saved in the csv file\")"
   ]
  }
 ],
 "metadata": {
  "kernelspec": {
   "display_name": "Python 3",
   "language": "python",
   "name": "python3"
  },
  "language_info": {
   "codemirror_mode": {
    "name": "ipython",
    "version": 3
   },
   "file_extension": ".py",
   "mimetype": "text/x-python",
   "name": "python",
   "nbconvert_exporter": "python",
   "pygments_lexer": "ipython3",
   "version": "3.7.3"
  },
  "toc-autonumbering": true
 },
 "nbformat": 4,
 "nbformat_minor": 4
}
